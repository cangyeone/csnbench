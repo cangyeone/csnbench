{
 "cells": [
  {
   "cell_type": "markdown",
   "metadata": {},
   "source": [
    "### 使用说明\n",
    "测试数据和更多使用方法请联系QQ群173640919，在群文件中有"
   ]
  },
  {
   "cell_type": "code",
   "execution_count": 69,
   "metadata": {},
   "outputs": [],
   "source": [
    "import matplotlib.pyplot as plt \n",
    "%matplotlib inline "
   ]
  },
  {
   "cell_type": "code",
   "execution_count": 70,
   "metadata": {},
   "outputs": [],
   "source": [
    "import torch \n",
    "import torch.nn as nn "
   ]
  },
  {
   "cell_type": "code",
   "execution_count": 71,
   "metadata": {},
   "outputs": [
    {
     "data": {
      "text/plain": [
       "<All keys matched successfully>"
      ]
     },
     "execution_count": 71,
     "metadata": {},
     "output_type": "execute_result"
    }
   ],
   "source": [
    "from models.UNet import UNet, Loss as ULoss \n",
    "model = UNet() \n",
    "model.train()\n",
    "model.load_state_dict(torch.load(\"ckpt/diting.unet.pt\", map_location=\"cpu\"))"
   ]
  },
  {
   "cell_type": "code",
   "execution_count": 72,
   "metadata": {},
   "outputs": [
    {
     "name": "stdout",
     "output_type": "stream",
     "text": [
      "torch.Size([100, 3, 6144])\n"
     ]
    }
   ],
   "source": [
    "wave = torch.randn([100, 3, 6144])\n",
    "y = model(wave)\n",
    "print(y.shape)\n"
   ]
  },
  {
   "cell_type": "markdown",
   "metadata": {},
   "source": [
    "### 数据读取部分\n",
    "- windows系统建议使用Thread\n",
    "- thread并行加速效果不明显"
   ]
  },
  {
   "cell_type": "code",
   "execution_count": 73,
   "metadata": {},
   "outputs": [],
   "source": [
    "from utils.data import DitingData, DitingDataThread "
   ]
  },
  {
   "cell_type": "code",
   "execution_count": 74,
   "metadata": {},
   "outputs": [],
   "source": [
    "datatool = DitingDataThread(file_name=\"data/diting.h5\", n_length=6144, stride=16, padlen=256)"
   ]
  },
  {
   "cell_type": "code",
   "execution_count": 75,
   "metadata": {},
   "outputs": [
    {
     "name": "stdout",
     "output_type": "stream",
     "text": [
      "(32, 3, 6144) (32, 2, 384) (32, 3, 6144) (32, 3, 6144)\n"
     ]
    }
   ],
   "source": [
    "x1, x2, x3, x4 = datatool.batch_data()\n",
    "print(x1.shape, x2.shape, x3.shape, x4.shape)"
   ]
  },
  {
   "cell_type": "code",
   "execution_count": 76,
   "metadata": {},
   "outputs": [
    {
     "data": {
      "text/plain": [
       "[<matplotlib.lines.Line2D at 0x20fb740a610>]"
      ]
     },
     "execution_count": 76,
     "metadata": {},
     "output_type": "execute_result"
    },
    {
     "data": {
      "image/png": "[encoded data removed]",
      "text/plain": [
       "<Figure size 432x288 with 1 Axes>"
      ]
     },
     "metadata": {
      "needs_background": "light"
     },
     "output_type": "display_data"
    }
   ],
   "source": [
    "plt.plot(x1[0, 1], c=\"k\")\n",
    "plt.plot(x3[0, 0], c=\"g\")\n",
    "plt.plot(x3[0, 1], c=\"b\")\n",
    "plt.plot(x3[0, 2], c=\"r\")"
   ]
  },
  {
   "cell_type": "markdown",
   "metadata": {},
   "source": [
    "### 模型训练\n",
    "- 将训练数据输入到模型中即可"
   ]
  },
  {
   "cell_type": "code",
   "execution_count": 77,
   "metadata": {},
   "outputs": [
    {
     "name": "stdout",
     "output_type": "stream",
     "text": [
      "0 tensor(114103.6250, grad_fn=<NegBackward0>)\n",
      "2 tensor(115883.5938, grad_fn=<NegBackward0>)\n",
      "4 tensor(117139.7578, grad_fn=<NegBackward0>)\n",
      "6 tensor(109532.8750, grad_fn=<NegBackward0>)\n",
      "8 tensor(105643.0469, grad_fn=<NegBackward0>)\n"
     ]
    }
   ],
   "source": [
    "from models.UNet import UNet, Loss as ULoss \n",
    "model = UNet() \n",
    "model.train()\n",
    "model.load_state_dict(torch.load(\"ckpt/diting.unet.pt\", map_location=\"cpu\"))\n",
    "lossfn = ULoss()\n",
    "optim = torch.optim.Adam(model.parameters(), 1e-4) \n",
    "\n",
    "for step in range(10):\n",
    "    x1, x2, x3, x4 = datatool.batch_data()\n",
    "    wave = torch.tensor(x1, dtype=torch.float32)\n",
    "    label = torch.tensor(x3, dtype=torch.float32) \n",
    "    y = model(wave)\n",
    "    loss = lossfn(y, label)\n",
    "    loss.backward() \n",
    "    optim.step()\n",
    "    optim.zero_grad()\n",
    "    if step %2==0:\n",
    "        print(step, loss)\n",
    "        torch.save(model.state_dict(), \"ckpt/unet.temp.pt\")"
   ]
  }
 ],
 "metadata": {
  "kernelspec": {
   "display_name": "Python 3.9.12 ('base')",
   "language": "python",
   "name": "python3"
  },
  "language_info": {
   "codemirror_mode": {
    "name": "ipython",
    "version": 3
   },
   "file_extension": ".py",
   "mimetype": "text/x-python",
   "name": "python",
   "nbconvert_exporter": "python",
   "pygments_lexer": "ipython3",
   "version": "3.9.12"
  },
  "orig_nbformat": 4,
  "vscode": {
   "interpreter": {
    "hash": "c19e02671d6b171777b6e6a83ef3b7c2cca585df144b1bbd7b7ab4b7daafbfc1"
   }
  }
 },
 "nbformat": 4,
 "nbformat_minor": 2
}
